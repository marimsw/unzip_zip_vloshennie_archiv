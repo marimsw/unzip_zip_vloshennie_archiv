{
  "nbformat": 4,
  "nbformat_minor": 0,
  "metadata": {
    "colab": {
      "provenance": [],
      "mount_file_id": "1BpJC86Jo7oN6aYxJnIwQbThz97YcJiRT",
      "authorship_tag": "ABX9TyP5hjkYAlWoSsEmki0Ruvl/",
      "include_colab_link": true
    },
    "kernelspec": {
      "name": "python3",
      "display_name": "Python 3"
    },
    "language_info": {
      "name": "python"
    }
  },
  "cells": [
    {
      "cell_type": "markdown",
      "metadata": {
        "id": "view-in-github",
        "colab_type": "text"
      },
      "source": [
        "<a href=\"https://colab.research.google.com/github/marimsw/unzip_zip_vloshennie_archiv/blob/main/unzip_save.ipynb\" target=\"_parent\"><img src=\"https://colab.research.google.com/assets/colab-badge.svg\" alt=\"Open In Colab\"/></a>"
      ]
    },
    {
      "cell_type": "code",
      "source": [
        "!pip install pyzipper"
      ],
      "metadata": {
        "colab": {
          "base_uri": "https://localhost:8080/"
        },
        "id": "qZybMcyY95hE",
        "outputId": "3e06f8eb-32c6-4e57-9880-69038c2138a0"
      },
      "execution_count": 2,
      "outputs": [
        {
          "output_type": "stream",
          "name": "stdout",
          "text": [
            "Collecting pyzipper\n",
            "  Downloading pyzipper-0.3.6-py2.py3-none-any.whl.metadata (3.5 kB)\n",
            "Collecting pycryptodomex (from pyzipper)\n",
            "  Downloading pycryptodomex-3.21.0-cp36-abi3-manylinux_2_17_x86_64.manylinux2014_x86_64.whl.metadata (3.4 kB)\n",
            "Downloading pyzipper-0.3.6-py2.py3-none-any.whl (67 kB)\n",
            "\u001b[2K   \u001b[90m━━━━━━━━━━━━━━━━━━━━━━━━━━━━━━━━━━━━━━━━\u001b[0m \u001b[32m67.7/67.7 kB\u001b[0m \u001b[31m1.0 MB/s\u001b[0m eta \u001b[36m0:00:00\u001b[0m\n",
            "\u001b[?25hDownloading pycryptodomex-3.21.0-cp36-abi3-manylinux_2_17_x86_64.manylinux2014_x86_64.whl (2.3 MB)\n",
            "\u001b[2K   \u001b[90m━━━━━━━━━━━━━━━━━━━━━━━━━━━━━━━━━━━━━━━━\u001b[0m \u001b[32m2.3/2.3 MB\u001b[0m \u001b[31m11.3 MB/s\u001b[0m eta \u001b[36m0:00:00\u001b[0m\n",
            "\u001b[?25hInstalling collected packages: pycryptodomex, pyzipper\n",
            "Successfully installed pycryptodomex-3.21.0 pyzipper-0.3.6\n"
          ]
        }
      ]
    },
    {
      "cell_type": "markdown",
      "source": [
        "### Разархивировать архив(вложенные архивы не разархивируются)"
      ],
      "metadata": {
        "id": "V3FCoMuyLi7Y"
      }
    },
    {
      "cell_type": "code",
      "execution_count": 4,
      "metadata": {
        "colab": {
          "base_uri": "https://localhost:8080/"
        },
        "id": "2zK167KV9cK2",
        "outputId": "9306d602-e81e-4e9e-b8a0-f58c6b105ca2"
      },
      "outputs": [
        {
          "output_type": "stream",
          "name": "stdout",
          "text": [
            "Введите путь к ZIP-файлу: /content/drive/MyDrive/Rabota/Задачи от 24_09_2024/от Андрея от 03_10_2024/6 разархивировать zip архив с обработкой всех возможных ошибок/arxiv_zip/1994241.zip\n",
            "Введите путь к директории для извлечения: /content/drive/MyDrive/Rabota/Задачи от 24_09_2024/от Андрея от 03_10_2024/6 разархивировать zip архив с обработкой всех возможных ошибок/arxiv_zip\n",
            "Введите пароль для ZIP-архива: ··········\n",
            "Файлы успешно извлечены в /content/drive/MyDrive/Rabota/Задачи от 24_09_2024/от Андрея от 03_10_2024/6 разархивировать zip архив с обработкой всех возможных ошибок/arxiv_zip\n"
          ]
        }
      ],
      "source": [
        "import zipfile\n",
        "import os\n",
        "import pyzipper\n",
        "import getpass\n",
        "\n",
        "def unzip_file(zip_file_path, extract_to):\n",
        "    try:\n",
        "        # Проверяем, существует ли ZIP-файл\n",
        "        if not os.path.exists(zip_file_path):\n",
        "            raise FileNotFoundError(f\"Файл {zip_file_path} не найден.\")\n",
        "\n",
        "        # Проверяем, является ли файл ZIP-архивом\n",
        "        if not zipfile.is_zipfile(zip_file_path):\n",
        "            raise zipfile.BadZipFile(f\"Файл {zip_file_path} не является ZIP-архивом.\")\n",
        "\n",
        "        # Запрашиваем пароль у пользователя\n",
        "        password = getpass.getpass(\"Введите пароль для ZIP-архива(если есть): \")\n",
        "\n",
        "        # Открываем ZIP-архив\n",
        "        with pyzipper.AESZipFile(zip_file_path, 'r') as zip_ref:\n",
        "            # Устанавливаем пароль\n",
        "            zip_ref.pwd = password.encode('utf-8')\n",
        "\n",
        "            # Извлекаем все содержимое\n",
        "            zip_ref.extractall(extract_to)\n",
        "            print(f\"Файлы успешно извлечены в {extract_to}\")\n",
        "\n",
        "    except FileNotFoundError as e:\n",
        "        print(f\"Ошибка: {e}\")\n",
        "    except zipfile.BadZipFile as e:\n",
        "        print(f\"Ошибка: {e}\")\n",
        "    except RuntimeError as e:\n",
        "        if 'Bad password' in str(e):\n",
        "            print(\"Ошибка: Неверный пароль для ZIP-архива.\")\n",
        "        else:\n",
        "            print(f\"Ошибка: {e}\")\n",
        "    except PermissionError:\n",
        "        print(\"Ошибка: У вас нет разрешения на запись в указанную директорию.\")\n",
        "    except Exception as e:\n",
        "        print(f\"Произошла непредвиденная ошибка: {e}\")\n",
        "\n",
        "# Запрашиваем у пользователя путь к ZIP-файлу и директорию для извлечения\n",
        "zip_file_path = input(\"Введите путь к ZIP-файлу: \")  # Путь к ZIP-файлу\n",
        "extract_to = input(\"Введите путь к директории для извлечения: \")  # Директория для извлечения\n",
        "\n",
        "unzip_file(zip_file_path, extract_to)\n"
      ]
    },
    {
      "cell_type": "markdown",
      "source": [
        "### Извлечь архивы в архиве\n"
      ],
      "metadata": {
        "id": "1IKT0do1LGJg"
      }
    },
    {
      "cell_type": "code",
      "source": [
        "import zipfile\n",
        "import os\n",
        "import pyzipper\n",
        "import getpass\n",
        "\n",
        "def unzip_file(zip_file_path, extract_to):\n",
        "    try:\n",
        "        # Проверяем, существует ли ZIP-файл\n",
        "        if not os.path.exists(zip_file_path):\n",
        "            raise FileNotFoundError(f\"Файл {zip_file_path} не найден.\")\n",
        "\n",
        "        # Проверяем, является ли файл ZIP-архивом\n",
        "        if not zipfile.is_zipfile(zip_file_path):\n",
        "            raise zipfile.BadZipFile(f\"Файл {zip_file_path} не является ZIP-архивом.\")\n",
        "\n",
        "        # Запрашиваем пароль у пользователя\n",
        "        password = getpass.getpass(\"Введите пароль для ZIP-архива(если есть): \")\n",
        "\n",
        "        # Открываем ZIP-архив\n",
        "        with pyzipper.AESZipFile(zip_file_path, 'r') as zip_ref:\n",
        "            # Устанавливаем пароль\n",
        "            zip_ref.pwd = password.encode('utf-8')\n",
        "\n",
        "            # Извлекаем все содержимое\n",
        "            zip_ref.extractall(extract_to)\n",
        "            print(f\"Архив '{zip_file_path}' успешно извлечен в '{extract_to}'\")\n",
        "\n",
        "            # Обрабатываем извлеченные файлы\n",
        "            for file_info in zip_ref.infolist():\n",
        "                extracted_file_path = os.path.join(extract_to, file_info.filename)\n",
        "                # Если это вложенный ZIP-файл, разархивируем его\n",
        "                if file_info.filename.endswith('.zip'):\n",
        "                    # Создаем директорию для вложенного ZIP-файла\n",
        "                    nested_extract_to = os.path.join(extract_to, os.path.dirname(file_info.filename))\n",
        "                    os.makedirs(nested_extract_to, exist_ok=True)\n",
        "                    # Открываем вложенный ZIP-файл без запроса пароля\n",
        "                    with pyzipper.AESZipFile(extracted_file_path, 'r') as nested_zip_ref:\n",
        "                        nested_zip_ref.extractall(nested_extract_to)\n",
        "                        print(f\"Вложенный архив '{extracted_file_path}' успешно извлечен в '{nested_extract_to}'\")\n",
        "                    # Удаляем вложенный ZIP-файл после извлечения\n",
        "                    os.remove(extracted_file_path)\n",
        "                    print(f\"Вложенный архив '{extracted_file_path}' удален.\")\n",
        "\n",
        "    except FileNotFoundError as e:\n",
        "        print(f\"Ошибка: {e}\")\n",
        "    except zipfile.BadZipFile as e:\n",
        "        print(f\"Ошибка: {e}\")\n",
        "    except RuntimeError as e:\n",
        "        if 'Bad password' in str(e):\n",
        "            print(\"Ошибка: Неверный пароль для ZIP-архива.\")\n",
        "        else:\n",
        "            print(f\"Ошибка: {e}\")\n",
        "    except PermissionError:\n",
        "        print(\"Ошибка: У вас нет разрешения на запись в указанную директорию.\")\n",
        "    except Exception as e:\n",
        "        print(f\"Произошла непредвиденная ошибка: {e}\")\n",
        "\n",
        "# Запрашиваем у пользователя путь к ZIP-файлу и директорию для извлечения\n",
        "zip_file_path = input(\"Введите путь к ZIP-файлу: \")  # Путь к ZIP-файлу\n",
        "extract_to = input(\"Введите путь к директории для извлечения: \")  # Директория для извлечения\n",
        "\n",
        "unzip_file(zip_file_path, extract_to)\n"
      ],
      "metadata": {
        "id": "ib5MgfTcLI-A"
      },
      "execution_count": null,
      "outputs": []
    },
    {
      "cell_type": "markdown",
      "source": [
        "+ Удаление вложенных ZIP-файлов: После успешного извлечения содержимого вложенного ZIP-файла добавлена строка os.remove(extracted_file_path), которая удаляет сам файл с расширением .zip.\n",
        "+ Вывод информации об удалении: После удаления вложенного ZIP-файла выводится сообщение, подтверждающее его удаление."
      ],
      "metadata": {
        "id": "iflGfu01MK87"
      }
    },
    {
      "cell_type": "markdown",
      "source": [
        "'''Убедитесь, что вложенные ZIP-архивы не защищены паролем, иначе вы получите ошибку при попытке их открыть.\n",
        "Если вложенные архивы могут быть защищены паролем, нужно будет добавить дополнительную логику для обработки таких случаев.'''"
      ],
      "metadata": {
        "id": "5ofQ0sqvNKss"
      }
    }
  ]
}